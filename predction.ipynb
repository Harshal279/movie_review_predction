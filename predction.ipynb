{
 "cells": [
  {
   "cell_type": "code",
   "execution_count": 97,
   "id": "50aa8232",
   "metadata": {},
   "outputs": [],
   "source": [
    "import numpy as np \n",
    "import tensorflow as tf \n",
    "from tensorflow.keras.datasets import imdb\n",
    "from tensorflow.keras.preprocessing import sequence\n",
    "from tensorflow.keras.models import load_model"
   ]
  },
  {
   "cell_type": "code",
   "execution_count": 98,
   "id": "b3014a28",
   "metadata": {},
   "outputs": [],
   "source": [
    "\n",
    "# Load the IMDB dataset word index\n",
    "word_index = imdb.get_word_index()\n",
    "reverse_word_index = {value: key for key, value in word_index.items()}"
   ]
  },
  {
   "cell_type": "code",
   "execution_count": 99,
   "id": "20911488",
   "metadata": {},
   "outputs": [
    {
     "name": "stderr",
     "output_type": "stream",
     "text": [
      "WARNING:absl:Compiled the loaded model, but the compiled metrics have yet to be built. `model.compile_metrics` will be empty until you train or evaluate the model.\n"
     ]
    },
    {
     "data": {
      "text/html": [
       "<pre style=\"white-space:pre;overflow-x:auto;line-height:normal;font-family:Menlo,'DejaVu Sans Mono',consolas,'Courier New',monospace\"><span style=\"font-weight: bold\">Model: \"sequential_1\"</span>\n",
       "</pre>\n"
      ],
      "text/plain": [
       "\u001b[1mModel: \"sequential_1\"\u001b[0m\n"
      ]
     },
     "metadata": {},
     "output_type": "display_data"
    },
    {
     "data": {
      "text/html": [
       "<pre style=\"white-space:pre;overflow-x:auto;line-height:normal;font-family:Menlo,'DejaVu Sans Mono',consolas,'Courier New',monospace\">┏━━━━━━━━━━━━━━━━━━━━━━━━━━━━━━━━━┳━━━━━━━━━━━━━━━━━━━━━━━━┳━━━━━━━━━━━━━━━┓\n",
       "┃<span style=\"font-weight: bold\"> Layer (type)                    </span>┃<span style=\"font-weight: bold\"> Output Shape           </span>┃<span style=\"font-weight: bold\">       Param # </span>┃\n",
       "┡━━━━━━━━━━━━━━━━━━━━━━━━━━━━━━━━━╇━━━━━━━━━━━━━━━━━━━━━━━━╇━━━━━━━━━━━━━━━┩\n",
       "│ embedding_1 (<span style=\"color: #0087ff; text-decoration-color: #0087ff\">Embedding</span>)         │ (<span style=\"color: #00d7ff; text-decoration-color: #00d7ff\">None</span>, <span style=\"color: #00af00; text-decoration-color: #00af00\">500</span>, <span style=\"color: #00af00; text-decoration-color: #00af00\">128</span>)       │     <span style=\"color: #00af00; text-decoration-color: #00af00\">1,280,000</span> │\n",
       "├─────────────────────────────────┼────────────────────────┼───────────────┤\n",
       "│ simple_rnn_1 (<span style=\"color: #0087ff; text-decoration-color: #0087ff\">SimpleRNN</span>)        │ (<span style=\"color: #00d7ff; text-decoration-color: #00d7ff\">None</span>, <span style=\"color: #00af00; text-decoration-color: #00af00\">128</span>)            │        <span style=\"color: #00af00; text-decoration-color: #00af00\">32,896</span> │\n",
       "├─────────────────────────────────┼────────────────────────┼───────────────┤\n",
       "│ dense_1 (<span style=\"color: #0087ff; text-decoration-color: #0087ff\">Dense</span>)                 │ (<span style=\"color: #00d7ff; text-decoration-color: #00d7ff\">None</span>, <span style=\"color: #00af00; text-decoration-color: #00af00\">1</span>)              │           <span style=\"color: #00af00; text-decoration-color: #00af00\">129</span> │\n",
       "└─────────────────────────────────┴────────────────────────┴───────────────┘\n",
       "</pre>\n"
      ],
      "text/plain": [
       "┏━━━━━━━━━━━━━━━━━━━━━━━━━━━━━━━━━┳━━━━━━━━━━━━━━━━━━━━━━━━┳━━━━━━━━━━━━━━━┓\n",
       "┃\u001b[1m \u001b[0m\u001b[1mLayer (type)                   \u001b[0m\u001b[1m \u001b[0m┃\u001b[1m \u001b[0m\u001b[1mOutput Shape          \u001b[0m\u001b[1m \u001b[0m┃\u001b[1m \u001b[0m\u001b[1m      Param #\u001b[0m\u001b[1m \u001b[0m┃\n",
       "┡━━━━━━━━━━━━━━━━━━━━━━━━━━━━━━━━━╇━━━━━━━━━━━━━━━━━━━━━━━━╇━━━━━━━━━━━━━━━┩\n",
       "│ embedding_1 (\u001b[38;5;33mEmbedding\u001b[0m)         │ (\u001b[38;5;45mNone\u001b[0m, \u001b[38;5;34m500\u001b[0m, \u001b[38;5;34m128\u001b[0m)       │     \u001b[38;5;34m1,280,000\u001b[0m │\n",
       "├─────────────────────────────────┼────────────────────────┼───────────────┤\n",
       "│ simple_rnn_1 (\u001b[38;5;33mSimpleRNN\u001b[0m)        │ (\u001b[38;5;45mNone\u001b[0m, \u001b[38;5;34m128\u001b[0m)            │        \u001b[38;5;34m32,896\u001b[0m │\n",
       "├─────────────────────────────────┼────────────────────────┼───────────────┤\n",
       "│ dense_1 (\u001b[38;5;33mDense\u001b[0m)                 │ (\u001b[38;5;45mNone\u001b[0m, \u001b[38;5;34m1\u001b[0m)              │           \u001b[38;5;34m129\u001b[0m │\n",
       "└─────────────────────────────────┴────────────────────────┴───────────────┘\n"
      ]
     },
     "metadata": {},
     "output_type": "display_data"
    },
    {
     "data": {
      "text/html": [
       "<pre style=\"white-space:pre;overflow-x:auto;line-height:normal;font-family:Menlo,'DejaVu Sans Mono',consolas,'Courier New',monospace\"><span style=\"font-weight: bold\"> Total params: </span><span style=\"color: #00af00; text-decoration-color: #00af00\">1,313,027</span> (5.01 MB)\n",
       "</pre>\n"
      ],
      "text/plain": [
       "\u001b[1m Total params: \u001b[0m\u001b[38;5;34m1,313,027\u001b[0m (5.01 MB)\n"
      ]
     },
     "metadata": {},
     "output_type": "display_data"
    },
    {
     "data": {
      "text/html": [
       "<pre style=\"white-space:pre;overflow-x:auto;line-height:normal;font-family:Menlo,'DejaVu Sans Mono',consolas,'Courier New',monospace\"><span style=\"font-weight: bold\"> Trainable params: </span><span style=\"color: #00af00; text-decoration-color: #00af00\">1,313,025</span> (5.01 MB)\n",
       "</pre>\n"
      ],
      "text/plain": [
       "\u001b[1m Trainable params: \u001b[0m\u001b[38;5;34m1,313,025\u001b[0m (5.01 MB)\n"
      ]
     },
     "metadata": {},
     "output_type": "display_data"
    },
    {
     "data": {
      "text/html": [
       "<pre style=\"white-space:pre;overflow-x:auto;line-height:normal;font-family:Menlo,'DejaVu Sans Mono',consolas,'Courier New',monospace\"><span style=\"font-weight: bold\"> Non-trainable params: </span><span style=\"color: #00af00; text-decoration-color: #00af00\">0</span> (0.00 B)\n",
       "</pre>\n"
      ],
      "text/plain": [
       "\u001b[1m Non-trainable params: \u001b[0m\u001b[38;5;34m0\u001b[0m (0.00 B)\n"
      ]
     },
     "metadata": {},
     "output_type": "display_data"
    },
    {
     "data": {
      "text/html": [
       "<pre style=\"white-space:pre;overflow-x:auto;line-height:normal;font-family:Menlo,'DejaVu Sans Mono',consolas,'Courier New',monospace\"><span style=\"font-weight: bold\"> Optimizer params: </span><span style=\"color: #00af00; text-decoration-color: #00af00\">2</span> (12.00 B)\n",
       "</pre>\n"
      ],
      "text/plain": [
       "\u001b[1m Optimizer params: \u001b[0m\u001b[38;5;34m2\u001b[0m (12.00 B)\n"
      ]
     },
     "metadata": {},
     "output_type": "display_data"
    }
   ],
   "source": [
    "model = load_model('simple_rnn_imdb.h5')\n",
    "model.summary()"
   ]
  },
  {
   "cell_type": "code",
   "execution_count": 100,
   "id": "af647357",
   "metadata": {},
   "outputs": [
    {
     "data": {
      "text/plain": [
       "[array([[-0.3557817 ,  0.26718327, -0.2841122 , ...,  0.31970286,\n",
       "         -0.48272935, -0.30368188],\n",
       "        [ 0.04548381, -0.00371143,  0.03475645, ...,  0.04194489,\n",
       "          0.05458818, -0.01742488],\n",
       "        [ 0.08171488, -0.02424334,  0.03564453, ..., -0.10258467,\n",
       "         -0.02065501,  0.02457915],\n",
       "        ...,\n",
       "        [-0.00668605, -0.00669285, -0.06938586, ...,  0.01400633,\n",
       "          0.02566169, -0.04927238],\n",
       "        [ 0.04046777, -0.02974709, -0.02908854, ...,  0.07081588,\n",
       "          0.06154044, -0.01328787],\n",
       "        [ 0.02846931, -0.05086194,  0.01577872, ..., -0.08869761,\n",
       "          0.08163014,  0.04669416]], dtype=float32),\n",
       " array([[-0.08746209,  0.13788089,  0.1395356 , ...,  0.14516857,\n",
       "          0.06409428,  0.06455675],\n",
       "        [-0.08925038,  0.08685303, -0.01050265, ..., -0.15092848,\n",
       "          0.08376821, -0.09371262],\n",
       "        [-0.08084508,  0.00230656, -0.11913824, ...,  0.15817182,\n",
       "         -0.12985289,  0.05917152],\n",
       "        ...,\n",
       "        [-0.0454497 ,  0.11414427, -0.10658653, ...,  0.09398896,\n",
       "         -0.03449381, -0.07222426],\n",
       "        [-0.09758411,  0.06289431, -0.08407231, ..., -0.0966095 ,\n",
       "         -0.02333635, -0.06564326],\n",
       "        [-0.11500669, -0.01688083,  0.00166394, ...,  0.01442242,\n",
       "         -0.11053748,  0.05709147]], dtype=float32),\n",
       " array([[-0.02383993, -0.12262571,  0.00792662, ...,  0.095369  ,\n",
       "         -0.08310515,  0.16157976],\n",
       "        [-0.10955185,  0.00680034,  0.16617817, ...,  0.00145847,\n",
       "          0.02720546, -0.1905127 ],\n",
       "        [ 0.00323085, -0.06978439,  0.16207795, ..., -0.05884851,\n",
       "          0.07992867,  0.17309514],\n",
       "        ...,\n",
       "        [-0.20073888,  0.12780078,  0.20760547, ..., -0.046572  ,\n",
       "          0.01162777, -0.03834544],\n",
       "        [ 0.0020023 , -0.01921566,  0.20572644, ..., -0.00163326,\n",
       "          0.04119325, -0.05315792],\n",
       "        [ 0.00470977, -0.0412772 ,  0.02382522, ...,  0.02665745,\n",
       "         -0.07366163,  0.01829961]], dtype=float32),\n",
       " array([-0.02708133,  0.01858513,  0.03360585,  0.00179808,  0.01367754,\n",
       "        -0.03352333, -0.01254434,  0.03100387, -0.00691466, -0.03095054,\n",
       "        -0.02947938, -0.0183049 , -0.01851071,  0.0324676 , -0.02950023,\n",
       "        -0.01902636,  0.00848417, -0.00064881,  0.01039577, -0.00476893,\n",
       "         0.01590642, -0.00300754, -0.01275696,  0.04002254, -0.0341497 ,\n",
       "        -0.02447339, -0.01685697,  0.02585539, -0.03573105,  0.01786542,\n",
       "        -0.0408771 , -0.01696863, -0.00429299,  0.00961976, -0.0111142 ,\n",
       "         0.00113241, -0.00885521, -0.00134985, -0.03741479, -0.00642473,\n",
       "        -0.02231598,  0.01146118, -0.01255054, -0.09356436,  0.00145011,\n",
       "         0.00803513,  0.03601762, -0.00103933, -0.0395123 , -0.02128192,\n",
       "        -0.00672632, -0.0233186 ,  0.04562716,  0.02514706,  0.01821916,\n",
       "        -0.01173777,  0.02602886,  0.04383343, -0.03366183, -0.03705605,\n",
       "         0.04402518,  0.00275432, -0.01395105,  0.03560501,  0.05096919,\n",
       "         0.01855229, -0.03432306, -0.02668989,  0.01334827, -0.03794678,\n",
       "        -0.03345117, -0.00816476, -0.04709678, -0.03302104,  0.04929034,\n",
       "        -0.00646443,  0.01401329, -0.01172916,  0.0315292 , -0.00683936,\n",
       "         0.02520289,  0.0159867 ,  0.02268893,  0.01174552,  0.02139399,\n",
       "        -0.02665231, -0.04765306,  0.05312649, -0.01194997, -0.0250531 ,\n",
       "        -0.01678578,  0.02447717, -0.01203771, -0.02740092, -0.00133177,\n",
       "        -0.00035641,  0.03023022, -0.02859425, -0.04097918, -0.04080134,\n",
       "        -0.0093882 ,  0.01918199, -0.02828625,  0.01229501, -0.01774642,\n",
       "        -0.02305716,  0.03658437, -0.02678069, -0.02359621, -0.00564529,\n",
       "        -0.00708089,  0.04522239, -0.00076795, -0.03861414,  0.04635492,\n",
       "         0.04021463, -0.01090161,  0.00109408,  0.00242015, -0.00736614,\n",
       "        -0.02026829,  0.0024573 ,  0.01078937,  0.00397085,  0.00854323,\n",
       "         0.0408434 , -0.01375112, -0.00448405], dtype=float32),\n",
       " array([[-8.41090456e-02],\n",
       "        [ 2.50033978e-02],\n",
       "        [ 8.96365717e-02],\n",
       "        [-1.83771431e-01],\n",
       "        [-8.37439205e-03],\n",
       "        [-1.05187245e-01],\n",
       "        [ 5.22241056e-01],\n",
       "        [ 1.31698385e-01],\n",
       "        [ 1.66362017e-01],\n",
       "        [-4.53599356e-02],\n",
       "        [-5.55332378e-02],\n",
       "        [-5.38212836e-01],\n",
       "        [-1.61537766e-01],\n",
       "        [ 1.04721233e-01],\n",
       "        [-8.00213143e-02],\n",
       "        [-2.51435518e-01],\n",
       "        [ 1.08970515e-01],\n",
       "        [-6.09825216e-02],\n",
       "        [ 2.36520275e-01],\n",
       "        [-1.43829092e-01],\n",
       "        [-2.35375151e-01],\n",
       "        [ 2.17090562e-01],\n",
       "        [-1.20680884e-01],\n",
       "        [-2.12397963e-01],\n",
       "        [-1.19581707e-01],\n",
       "        [-2.70587742e-01],\n",
       "        [ 6.07048348e-03],\n",
       "        [ 1.57196075e-01],\n",
       "        [ 9.70883444e-02],\n",
       "        [-2.29462549e-01],\n",
       "        [-7.10206106e-02],\n",
       "        [-1.93409503e-01],\n",
       "        [-1.27907008e-01],\n",
       "        [-1.58110410e-01],\n",
       "        [ 1.49083033e-01],\n",
       "        [ 2.01958492e-01],\n",
       "        [-1.83544427e-01],\n",
       "        [-6.04866892e-02],\n",
       "        [ 5.00190966e-02],\n",
       "        [ 5.37172742e-02],\n",
       "        [ 2.38010108e-01],\n",
       "        [ 1.46646231e-01],\n",
       "        [-4.40929756e-02],\n",
       "        [-4.07143682e-01],\n",
       "        [-1.17650263e-01],\n",
       "        [-1.86772332e-01],\n",
       "        [ 1.85709670e-01],\n",
       "        [-1.66297391e-01],\n",
       "        [-1.63510978e-01],\n",
       "        [-2.04956740e-01],\n",
       "        [ 2.12375209e-01],\n",
       "        [ 1.15157321e-01],\n",
       "        [ 5.73539846e-02],\n",
       "        [ 1.84433088e-02],\n",
       "        [ 1.25186756e-01],\n",
       "        [-4.66975942e-02],\n",
       "        [-2.49205634e-01],\n",
       "        [-7.61580914e-02],\n",
       "        [-6.13368042e-02],\n",
       "        [-1.94413036e-01],\n",
       "        [ 1.03575520e-01],\n",
       "        [-9.20433030e-02],\n",
       "        [-1.44550323e-01],\n",
       "        [ 7.87730142e-02],\n",
       "        [-2.05503076e-01],\n",
       "        [ 1.02768280e-01],\n",
       "        [-1.47901252e-01],\n",
       "        [-1.70771822e-01],\n",
       "        [ 1.50781393e-01],\n",
       "        [ 1.31623149e-02],\n",
       "        [-8.49323645e-02],\n",
       "        [-3.05922389e-01],\n",
       "        [ 4.30032015e-02],\n",
       "        [-1.39555722e-01],\n",
       "        [ 1.29261687e-01],\n",
       "        [-1.98243380e-01],\n",
       "        [-2.11902648e-01],\n",
       "        [-1.50603294e-01],\n",
       "        [ 9.81312320e-02],\n",
       "        [ 2.39621133e-01],\n",
       "        [ 5.98276779e-02],\n",
       "        [ 1.40920222e-01],\n",
       "        [-2.33233973e-01],\n",
       "        [ 1.46696419e-01],\n",
       "        [ 3.43952388e-01],\n",
       "        [ 4.20809910e-02],\n",
       "        [ 4.52239424e-01],\n",
       "        [ 1.99716240e-01],\n",
       "        [ 2.44086772e-01],\n",
       "        [ 1.03818234e-02],\n",
       "        [ 2.74245497e-02],\n",
       "        [ 1.30034044e-01],\n",
       "        [-1.59135073e-01],\n",
       "        [-4.44523469e-02],\n",
       "        [ 6.32643253e-02],\n",
       "        [-8.48806724e-02],\n",
       "        [ 8.56786072e-02],\n",
       "        [ 2.47773856e-01],\n",
       "        [-1.93345785e-01],\n",
       "        [ 1.21531449e-01],\n",
       "        [-1.73012972e-01],\n",
       "        [-1.73646867e-01],\n",
       "        [ 7.44353756e-02],\n",
       "        [ 1.09506398e-01],\n",
       "        [-9.50058401e-01],\n",
       "        [-9.66796130e-02],\n",
       "        [ 8.04082155e-02],\n",
       "        [-2.82259315e-01],\n",
       "        [ 4.83502299e-02],\n",
       "        [-1.32955775e-01],\n",
       "        [-9.20078829e-02],\n",
       "        [ 5.26144803e-02],\n",
       "        [ 7.15972483e-02],\n",
       "        [-2.47848406e-01],\n",
       "        [ 1.42602831e-01],\n",
       "        [-1.42937064e-01],\n",
       "        [-4.35355872e-01],\n",
       "        [-3.88920715e-04],\n",
       "        [-1.91724360e-01],\n",
       "        [-1.36606157e-01],\n",
       "        [-2.07776591e-01],\n",
       "        [ 6.41067624e-01],\n",
       "        [-1.04000024e-01],\n",
       "        [-1.61641970e-01],\n",
       "        [ 9.65983272e-02],\n",
       "        [-1.18795343e-01],\n",
       "        [-3.42611074e-02],\n",
       "        [-1.06602275e+00]], dtype=float32),\n",
       " array([0.00852652], dtype=float32)]"
      ]
     },
     "execution_count": 100,
     "metadata": {},
     "output_type": "execute_result"
    }
   ],
   "source": [
    "model.get_weights()"
   ]
  },
  {
   "cell_type": "code",
   "execution_count": 101,
   "id": "74c546ca",
   "metadata": {},
   "outputs": [],
   "source": [
    "# Step 2: Helper Functions\n",
    "# Function to decode reviews\n",
    "def decode_review(encoded_review):\n",
    "    return ' '.join([reverse_word_index.get(i - 3, '?') for i in encoded_review])\n",
    "\n",
    "# Function to preprocess user input\n",
    "def preprocess_text(text):\n",
    "    # Add better text cleaning\n",
    "    import re\n",
    "    text = re.sub(r'[^a-zA-Z\\s]', '', text)  # Remove punctuation\n",
    "    text = text.lower().strip()\n",
    "    \n",
    "    words = text.split()\n",
    "    # Handle unknown words better (use index 2 for unknown, not word_index.get(word, 2))\n",
    "    encoded_review = [word_index.get(word, 2) for word in words]\n",
    "    encoded_review = [x + 3 for x in encoded_review]  # Adjust indexing\n",
    "    \n",
    "    padded_review = sequence.pad_sequences([encoded_review], maxlen=500)\n",
    "    return padded_review"
   ]
  },
  {
   "cell_type": "code",
   "execution_count": 102,
   "id": "466fa1f7",
   "metadata": {},
   "outputs": [],
   "source": [
    "def predict_sentiment(review):\n",
    "    processed = preprocess_text(review)\n",
    "    prediction = model.predict(processed)\n",
    "    sentiment = 'Positive' if prediction[0][0] > 0.3 else 'Negative'\n",
    "    return sentiment, prediction[0][0]\n"
   ]
  },
  {
   "cell_type": "code",
   "execution_count": 103,
   "id": "b60886b8",
   "metadata": {},
   "outputs": [
    {
     "name": "stdout",
     "output_type": "stream",
     "text": [
      "\u001b[1m1/1\u001b[0m \u001b[32m━━━━━━━━━━━━━━━━━━━━\u001b[0m\u001b[37m\u001b[0m \u001b[1m0s\u001b[0m 384ms/step\n",
      "Review: This movie was fantastic! The acting was great and the plot was thrilling.\n",
      "Sentiment: Negative\n",
      "Prediction Score: 0.020746205002069473\n"
     ]
    }
   ],
   "source": [
    "# Step 4: User Input and Prediction\n",
    "# Example review for prediction\n",
    "example_review = \"This movie was fantastic! The acting was great and the plot was thrilling.\"\n",
    "sentiment,score=predict_sentiment(example_review)\n",
    "\n",
    "print(f'Review: {example_review}')\n",
    "print(f'Sentiment: {sentiment}')\n",
    "print(f'Prediction Score: {score}')"
   ]
  },
  {
   "cell_type": "code",
   "execution_count": null,
   "id": "e7b7e947",
   "metadata": {},
   "outputs": [],
   "source": []
  }
 ],
 "metadata": {
  "kernelspec": {
   "display_name": "Python 3",
   "language": "python",
   "name": "python3"
  },
  "language_info": {
   "codemirror_mode": {
    "name": "ipython",
    "version": 3
   },
   "file_extension": ".py",
   "mimetype": "text/x-python",
   "name": "python",
   "nbconvert_exporter": "python",
   "pygments_lexer": "ipython3",
   "version": "3.10.18"
  }
 },
 "nbformat": 4,
 "nbformat_minor": 5
}
